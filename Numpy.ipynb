{
 "cells": [
  {
   "cell_type": "code",
   "execution_count": 1,
   "id": "b89e1723-4895-43cf-be8e-bf69fc08e533",
   "metadata": {},
   "outputs": [],
   "source": [
    "import numpy as np"
   ]
  },
  {
   "cell_type": "code",
   "execution_count": 2,
   "id": "76f823d9-0797-4147-bac2-92143e3023b3",
   "metadata": {},
   "outputs": [
    {
     "data": {
      "text/plain": [
       "array([13, 12,  6, 20, 12, 15, 17])"
      ]
     },
     "execution_count": 2,
     "metadata": {},
     "output_type": "execute_result"
    }
   ],
   "source": [
    "score = np.array([13, 12, 6, 20, 12, 15, 17])\n",
    "score"
   ]
  },
  {
   "cell_type": "code",
   "execution_count": 3,
   "id": "91309589-ae86-4cf3-b930-d27e9bc5bed6",
   "metadata": {},
   "outputs": [
    {
     "name": "stdout",
     "output_type": "stream",
     "text": [
      "[13 12  6 20 12 15 17]\n"
     ]
    }
   ],
   "source": [
    "print(score)"
   ]
  },
  {
   "cell_type": "code",
   "execution_count": 4,
   "id": "fe92b990-e88c-444e-a5a7-4d60c1b6ee68",
   "metadata": {},
   "outputs": [
    {
     "name": "stdout",
     "output_type": "stream",
     "text": [
      "1\n"
     ]
    }
   ],
   "source": [
    "print(score.ndim)"
   ]
  },
  {
   "cell_type": "code",
   "execution_count": 5,
   "id": "210e3114-7ae6-487d-a6b4-c42aff92cc3f",
   "metadata": {},
   "outputs": [
    {
     "data": {
      "text/plain": [
       "(7,)"
      ]
     },
     "execution_count": 5,
     "metadata": {},
     "output_type": "execute_result"
    }
   ],
   "source": [
    "score.shape"
   ]
  },
  {
   "cell_type": "code",
   "execution_count": 6,
   "id": "824ab445-2d4d-40b8-ac2d-096e7bd69c97",
   "metadata": {},
   "outputs": [
    {
     "data": {
      "text/plain": [
       "array([12,  6, 20, 12, 15])"
      ]
     },
     "execution_count": 6,
     "metadata": {},
     "output_type": "execute_result"
    }
   ],
   "source": [
    "score [1] # 12\n",
    "score[1:6] # 12, 6, ..."
   ]
  },
  {
   "cell_type": "code",
   "execution_count": 7,
   "id": "324e60e1-3ae1-418e-beb9-f632d95a4623",
   "metadata": {},
   "outputs": [],
   "source": [
    "s = np.sort(score)"
   ]
  },
  {
   "cell_type": "code",
   "execution_count": 8,
   "id": "cae7f6b3-98e0-4872-b744-1aaf6a96345d",
   "metadata": {},
   "outputs": [
    {
     "data": {
      "text/plain": [
       "array([ 6, 12, 12, 13, 15, 17, 20])"
      ]
     },
     "execution_count": 8,
     "metadata": {},
     "output_type": "execute_result"
    }
   ],
   "source": [
    "s"
   ]
  },
  {
   "cell_type": "code",
   "execution_count": 9,
   "id": "84418cd2-2adc-4139-9cc3-4a00aa14c574",
   "metadata": {},
   "outputs": [],
   "source": [
    "uscore = np.unique(score)"
   ]
  },
  {
   "cell_type": "code",
   "execution_count": 10,
   "id": "403e24f1-9433-483e-a9c6-d2051993ff6a",
   "metadata": {},
   "outputs": [
    {
     "data": {
      "text/plain": [
       "array([ 6, 12, 13, 15, 17, 20])"
      ]
     },
     "execution_count": 10,
     "metadata": {},
     "output_type": "execute_result"
    }
   ],
   "source": [
    "uscore"
   ]
  },
  {
   "cell_type": "code",
   "execution_count": 11,
   "id": "794c51db-d51e-41d4-b1ee-4ae8c573efa4",
   "metadata": {},
   "outputs": [],
   "source": [
    "x = score / 2"
   ]
  },
  {
   "cell_type": "code",
   "execution_count": 12,
   "id": "ee45d57c-edbe-4838-b2e6-dddce3be40e4",
   "metadata": {},
   "outputs": [
    {
     "data": {
      "text/plain": [
       "array([ 6.5,  6. ,  3. , 10. ,  6. ,  7.5,  8.5])"
      ]
     },
     "execution_count": 12,
     "metadata": {},
     "output_type": "execute_result"
    }
   ],
   "source": [
    "x"
   ]
  },
  {
   "cell_type": "code",
   "execution_count": 13,
   "id": "7c915c52-e614-4134-add5-bc53df41a5c4",
   "metadata": {},
   "outputs": [
    {
     "name": "stdout",
     "output_type": "stream",
     "text": [
      "[ 6.5  6.   3.  10.   6.   7.5  8.5]\n"
     ]
    }
   ],
   "source": [
    "print(x)"
   ]
  },
  {
   "cell_type": "code",
   "execution_count": 14,
   "id": "ec2147ab-50f3-4598-87eb-5f5c199e247d",
   "metadata": {},
   "outputs": [
    {
     "data": {
      "text/plain": [
       "np.int64(95)"
      ]
     },
     "execution_count": 14,
     "metadata": {},
     "output_type": "execute_result"
    }
   ],
   "source": [
    "np.sum(score)"
   ]
  },
  {
   "cell_type": "code",
   "execution_count": 15,
   "id": "38eace4f-9acc-4258-a6ba-9d0d4d57495b",
   "metadata": {},
   "outputs": [
    {
     "name": "stdout",
     "output_type": "stream",
     "text": [
      "95\n"
     ]
    }
   ],
   "source": [
    "print(np.sum(score))"
   ]
  },
  {
   "cell_type": "code",
   "execution_count": 16,
   "id": "cfb170da-0d92-484c-a12c-1511407bce07",
   "metadata": {},
   "outputs": [
    {
     "data": {
      "text/plain": [
       "array([17, 17, 10, 20, 17, 17, 17])"
      ]
     },
     "execution_count": 16,
     "metadata": {},
     "output_type": "execute_result"
    }
   ],
   "source": [
    "np.where(score < 10, 10, np.where(score <= 17, 17, 20))"
   ]
  },
  {
   "cell_type": "code",
   "execution_count": 17,
   "id": "bf7f3a08-c76c-4f72-9f0d-5552c3980cc2",
   "metadata": {},
   "outputs": [],
   "source": [
    "a = np.array([11, 20, 13, 14, 18, 6])"
   ]
  },
  {
   "cell_type": "code",
   "execution_count": 18,
   "id": "d9d5c726-9ac0-47f7-9fac-b2f228e5d6ac",
   "metadata": {},
   "outputs": [
    {
     "name": "stdout",
     "output_type": "stream",
     "text": [
      "(array([2]),)\n"
     ]
    }
   ],
   "source": [
    "x = np.where(a == 13)\n",
    "print(x)"
   ]
  },
  {
   "cell_type": "code",
   "execution_count": 19,
   "id": "8c859ba8-b342-4bcf-a137-1e6ec807c187",
   "metadata": {},
   "outputs": [
    {
     "data": {
      "text/plain": [
       "(array([2]),)"
      ]
     },
     "execution_count": 19,
     "metadata": {},
     "output_type": "execute_result"
    }
   ],
   "source": [
    "x"
   ]
  },
  {
   "cell_type": "code",
   "execution_count": 20,
   "id": "b4e4b4af-485e-46c7-bc96-040ee95fbdd1",
   "metadata": {},
   "outputs": [
    {
     "data": {
      "text/plain": [
       "array([2])"
      ]
     },
     "execution_count": 20,
     "metadata": {},
     "output_type": "execute_result"
    }
   ],
   "source": [
    "x[0]"
   ]
  },
  {
   "cell_type": "code",
   "execution_count": 22,
   "id": "84bd517b-82db-48e6-94c8-fc70116ad7fe",
   "metadata": {},
   "outputs": [
    {
     "name": "stdout",
     "output_type": "stream",
     "text": [
      "<class 'tuple'>\n"
     ]
    }
   ],
   "source": [
    "print(type(np.where(a%2 == 0)))"
   ]
  },
  {
   "cell_type": "code",
   "execution_count": 26,
   "id": "059bbfc1-3340-444c-94f9-38bef13e7196",
   "metadata": {},
   "outputs": [
    {
     "name": "stdout",
     "output_type": "stream",
     "text": [
      "[1 7 3 4 5]\n",
      "[2 3 4]\n"
     ]
    }
   ],
   "source": [
    "s = np.array([1, 2, 3, 4, 5])\n",
    "c = s[1:4].copy()\n",
    "s[1] = 7\n",
    "print(s)\n",
    "print(c)"
   ]
  },
  {
   "cell_type": "code",
   "execution_count": 27,
   "id": "c89bfb43-bd4e-45a8-b829-e72b7acae704",
   "metadata": {},
   "outputs": [
    {
     "name": "stdout",
     "output_type": "stream",
     "text": [
      "[1 7] [1 7]\n"
     ]
    }
   ],
   "source": [
    "a = np.array([1, 2])\n",
    "b = a.view()\n",
    "a[1] = 7\n",
    "print(a, b)"
   ]
  },
  {
   "cell_type": "code",
   "execution_count": 28,
   "id": "945c97b9-b013-408b-a851-b4a38f14417f",
   "metadata": {},
   "outputs": [
    {
     "name": "stdout",
     "output_type": "stream",
     "text": [
      "[11 13 14 15 18 20]\n",
      "1\n"
     ]
    }
   ],
   "source": [
    "a = np.array([11, 20, 18, 14, 15, 13])\n",
    "x = np.searchsorted(a, 12)\n",
    "print(np.sort(a))\n",
    "print(x)"
   ]
  },
  {
   "cell_type": "code",
   "execution_count": 29,
   "id": "61c63ee9-791e-4bda-9875-082b364ff2ca",
   "metadata": {},
   "outputs": [
    {
     "name": "stdout",
     "output_type": "stream",
     "text": [
      "[12 18]\n"
     ]
    }
   ],
   "source": [
    "a = np.array([12, 9, 18])\n",
    "x = [True, False, True]\n",
    "b = a[x]\n",
    "print(b)"
   ]
  },
  {
   "cell_type": "code",
   "execution_count": 32,
   "id": "4908b19a-cfb5-4960-8e7d-0142dff9ba49",
   "metadata": {},
   "outputs": [
    {
     "name": "stdout",
     "output_type": "stream",
     "text": [
      "[0. 0. 0.] [20 20 20] [0 1 2] [-0.15579475  0.11504119 -0.63291778]\n"
     ]
    }
   ],
   "source": [
    "print(\n",
    "    np.zeros(3),\n",
    "    np.full(3, 20),\n",
    "    np.arange(3),\n",
    "    np.random.randn(3)\n",
    ")"
   ]
  },
  {
   "cell_type": "code",
   "execution_count": 36,
   "id": "cb986e8f-b430-4107-b6c2-7d2b439ef901",
   "metadata": {},
   "outputs": [
    {
     "name": "stdout",
     "output_type": "stream",
     "text": [
      "3\n"
     ]
    }
   ],
   "source": [
    "a = np.array([1, 2, 3, 4, 5, 6])\n",
    "n = np.array_split(a, 2)\n",
    "print(n[0][2])"
   ]
  },
  {
   "cell_type": "code",
   "execution_count": 37,
   "id": "edf95a06-4517-4aed-91a4-8743620bf3db",
   "metadata": {},
   "outputs": [
    {
     "name": "stdout",
     "output_type": "stream",
     "text": [
      "[[1 2 3]\n",
      " [4 5 6]\n",
      " [7 8 9]]\n"
     ]
    }
   ],
   "source": [
    "x = np.array([[1, 2 ,3], [4, 5, 6], [7, 8, 9]])\n",
    "print(x)"
   ]
  },
  {
   "cell_type": "code",
   "execution_count": 39,
   "id": "22cbe11e-9618-41f9-b3ab-151625e3278c",
   "metadata": {},
   "outputs": [
    {
     "data": {
      "text/plain": [
       "(3, 3)"
      ]
     },
     "execution_count": 39,
     "metadata": {},
     "output_type": "execute_result"
    }
   ],
   "source": [
    "x.shape"
   ]
  },
  {
   "cell_type": "code",
   "execution_count": 40,
   "id": "739f181c-2203-4848-aee5-32a794224f56",
   "metadata": {},
   "outputs": [
    {
     "data": {
      "text/plain": [
       "2"
      ]
     },
     "execution_count": 40,
     "metadata": {},
     "output_type": "execute_result"
    }
   ],
   "source": [
    "x.ndim"
   ]
  },
  {
   "cell_type": "code",
   "execution_count": 41,
   "id": "36f7cc15-dfa4-4777-b5ed-c39342cad232",
   "metadata": {},
   "outputs": [
    {
     "data": {
      "text/plain": [
       "array([1, 2, 3])"
      ]
     },
     "execution_count": 41,
     "metadata": {},
     "output_type": "execute_result"
    }
   ],
   "source": [
    "x[0]"
   ]
  },
  {
   "cell_type": "code",
   "execution_count": 42,
   "id": "abbc1c2a-715a-4353-be98-45ce39e35962",
   "metadata": {},
   "outputs": [
    {
     "data": {
      "text/plain": [
       "np.int64(1)"
      ]
     },
     "execution_count": 42,
     "metadata": {},
     "output_type": "execute_result"
    }
   ],
   "source": [
    "x[0][0]"
   ]
  },
  {
   "cell_type": "code",
   "execution_count": 43,
   "id": "2856eb40-dfa4-4e65-b50f-7187799fc5e8",
   "metadata": {},
   "outputs": [
    {
     "data": {
      "text/plain": [
       "np.int64(5)"
      ]
     },
     "execution_count": 43,
     "metadata": {},
     "output_type": "execute_result"
    }
   ],
   "source": [
    "x[1][1]"
   ]
  },
  {
   "cell_type": "code",
   "execution_count": 44,
   "id": "2167e847-fe1d-4ba6-b579-3e4e7e4a2639",
   "metadata": {},
   "outputs": [
    {
     "data": {
      "text/plain": [
       "np.int64(9)"
      ]
     },
     "execution_count": 44,
     "metadata": {},
     "output_type": "execute_result"
    }
   ],
   "source": [
    "x[-1][-1]"
   ]
  },
  {
   "cell_type": "code",
   "execution_count": 45,
   "id": "e0d20062-ecaa-4cdd-b93b-44748a97ff60",
   "metadata": {},
   "outputs": [
    {
     "data": {
      "text/plain": [
       "np.int64(3)"
      ]
     },
     "execution_count": 45,
     "metadata": {},
     "output_type": "execute_result"
    }
   ],
   "source": [
    "x[0][-1]"
   ]
  },
  {
   "cell_type": "code",
   "execution_count": 46,
   "id": "3722b453-1f32-460d-825c-32a04adfec07",
   "metadata": {},
   "outputs": [
    {
     "data": {
      "text/plain": [
       "np.int64(7)"
      ]
     },
     "execution_count": 46,
     "metadata": {},
     "output_type": "execute_result"
    }
   ],
   "source": [
    "x[-1][0]"
   ]
  },
  {
   "cell_type": "code",
   "execution_count": 47,
   "id": "8080db0b-b2d1-4287-a16f-03a949647f1e",
   "metadata": {},
   "outputs": [
    {
     "data": {
      "text/plain": [
       "np.int64(2)"
      ]
     },
     "execution_count": 47,
     "metadata": {},
     "output_type": "execute_result"
    }
   ],
   "source": [
    "x[0, 1]"
   ]
  },
  {
   "cell_type": "code",
   "execution_count": 48,
   "id": "c7a585ef-aa8c-40e9-8934-b99e084455bc",
   "metadata": {},
   "outputs": [
    {
     "data": {
      "text/plain": [
       "array([2, 3])"
      ]
     },
     "execution_count": 48,
     "metadata": {},
     "output_type": "execute_result"
    }
   ],
   "source": [
    "x[0, 1:3]"
   ]
  },
  {
   "cell_type": "code",
   "execution_count": 49,
   "id": "efccdd49-0074-4703-948a-55c54c8f9567",
   "metadata": {},
   "outputs": [],
   "source": [
    "a = np.array([1, 2, 3, 4, 5, 6, 7, 8])\n",
    "b = a.reshape(2, 4)"
   ]
  },
  {
   "cell_type": "code",
   "execution_count": 50,
   "id": "93def1cc-341b-42ed-937e-6221f6ff8fb8",
   "metadata": {},
   "outputs": [
    {
     "data": {
      "text/plain": [
       "array([[1, 2, 3, 4],\n",
       "       [5, 6, 7, 8]])"
      ]
     },
     "execution_count": 50,
     "metadata": {},
     "output_type": "execute_result"
    }
   ],
   "source": [
    "b"
   ]
  },
  {
   "cell_type": "code",
   "execution_count": 58,
   "id": "d184f056-c0e2-4ea2-9076-92277db95e17",
   "metadata": {},
   "outputs": [],
   "source": [
    "z = np.arange(2, 101, 2).reshape(10, 5)"
   ]
  },
  {
   "cell_type": "code",
   "execution_count": 57,
   "id": "36376dd6-a805-4c3e-9663-3f1d875a48ac",
   "metadata": {},
   "outputs": [
    {
     "data": {
      "text/plain": [
       "array([[  2,   4,   6,   8,  10],\n",
       "       [ 12,  14,  16,  18,  20],\n",
       "       [ 22,  24,  26,  28,  30],\n",
       "       [ 32,  34,  36,  38,  40],\n",
       "       [ 42,  44,  46,  48,  50],\n",
       "       [ 52,  54,  56,  58,  60],\n",
       "       [ 62,  64,  66,  68,  70],\n",
       "       [ 72,  74,  76,  78,  80],\n",
       "       [ 82,  84,  86,  88,  90],\n",
       "       [ 92,  94,  96,  98, 100]])"
      ]
     },
     "execution_count": 57,
     "metadata": {},
     "output_type": "execute_result"
    }
   ],
   "source": [
    "z"
   ]
  },
  {
   "cell_type": "code",
   "execution_count": 59,
   "id": "7519c5a1-5382-4bdc-9162-4366c634a82e",
   "metadata": {},
   "outputs": [
    {
     "data": {
      "text/plain": [
       "(10, 5)"
      ]
     },
     "execution_count": 59,
     "metadata": {},
     "output_type": "execute_result"
    }
   ],
   "source": [
    "z.shape"
   ]
  },
  {
   "cell_type": "code",
   "execution_count": 60,
   "id": "71bdb49c-b1cc-4872-9aef-74d8fe403c0c",
   "metadata": {},
   "outputs": [
    {
     "data": {
      "text/plain": [
       "2"
      ]
     },
     "execution_count": 60,
     "metadata": {},
     "output_type": "execute_result"
    }
   ],
   "source": [
    "z.ndim"
   ]
  },
  {
   "cell_type": "code",
   "execution_count": 61,
   "id": "8d94250c-67f6-45ef-8b75-2f23c99df046",
   "metadata": {},
   "outputs": [
    {
     "name": "stdout",
     "output_type": "stream",
     "text": [
      "45\n",
      "[12 15 18]\n",
      "[[1 2 3]\n",
      " [4 5 6]\n",
      " [7 8 9]]\n"
     ]
    }
   ],
   "source": [
    "a = np.arange(1, 10).reshape(3, 3)\n",
    "print(np.sum(a))\n",
    "print(np.sum(a, axis= 0))\n",
    "print(a)"
   ]
  },
  {
   "cell_type": "code",
   "execution_count": 76,
   "id": "1b0631d8-7d42-482a-bcae-c4388ccb2658",
   "metadata": {
    "scrolled": true
   },
   "outputs": [
    {
     "name": "stdout",
     "output_type": "stream",
     "text": [
      "[[16 58 44  1 70 17 87 74 58 22]\n",
      " [29 88 15 12  2 86 17 27 41 86]\n",
      " [31 38 46 37 69 23 42 22 86 74]\n",
      " [98 18 31 47 82 48 81 21 66 94]\n",
      " [85 44 35 68 85 88 24  8 48 45]\n",
      " [80 16 26 90 86 91 87 29 95 25]\n",
      " [60 92 96 24 20 13 71 60 16 21]\n",
      " [29 36 52 95 20 64 71 72 98 28]\n",
      " [30 98 89 36 56 72 25 51 18 17]\n",
      " [ 8 73 35 41 45 98 83 11 20 98]]\n",
      "\n",
      "[[90 85  9 65 30 91 10 42 40 55]\n",
      " [32 69 58 73 25 53 77 58 45 37]\n",
      " [46 26 48 53 84  9 29 48 58 23]\n",
      " [ 8 15 58  9  5 62 17 22 69 96]\n",
      " [98 57 67 65 40 53 25 12 68 96]\n",
      " [34 48 43 48  1 83 82 66 25 66]\n",
      " [57 12  9 63 29 25 62 23 56  1]\n",
      " [24 50 56 24 35 55 91  4  4 35]\n",
      " [ 2 15 22 11 55 23 97 96 38 67]\n",
      " [70 19 18 84 73 19 89 75 77 96]]\n",
      "\n",
      "[[16 58 44  1 70 17 87 74 58 22]\n",
      " [29 88 15 12  2 86 17 27 41 86]\n",
      " [31 38 46 37 69 23 42 22 86 74]\n",
      " [98 18 31 47 82 48 81 21 66 94]\n",
      " [85 44 35 68 85 88 24  8 48 45]\n",
      " [80 16 26 90 86 91 87 29 95 25]\n",
      " [60 92 96 24 20 13 71 60 16 21]\n",
      " [29 36 52 95 20 64 71 72 98 28]\n",
      " [30 98 89 36 56 72 25 51 18 17]\n",
      " [ 8 73 35 41 45 98 83 11 20 98]\n",
      " [90 85  9 65 30 91 10 42 40 55]\n",
      " [32 69 58 73 25 53 77 58 45 37]\n",
      " [46 26 48 53 84  9 29 48 58 23]\n",
      " [ 8 15 58  9  5 62 17 22 69 96]\n",
      " [98 57 67 65 40 53 25 12 68 96]\n",
      " [34 48 43 48  1 83 82 66 25 66]\n",
      " [57 12  9 63 29 25 62 23 56  1]\n",
      " [24 50 56 24 35 55 91  4  4 35]\n",
      " [ 2 15 22 11 55 23 97 96 38 67]\n",
      " [70 19 18 84 73 19 89 75 77 96]]\n"
     ]
    }
   ],
   "source": [
    "a = np.random.randint(1, 100, size= (10, 10))\n",
    "b = np.random.randint(1, 100, size= (10, 10))\n",
    "print(a)\n",
    "print()\n",
    "print(b)\n",
    "print()\n",
    "print(np.concatenate((a, b), axis= 0))"
   ]
  },
  {
   "cell_type": "code",
   "execution_count": 88,
   "id": "22729a54-854d-4f73-b27f-ba3aea85d5ff",
   "metadata": {},
   "outputs": [
    {
     "data": {
      "text/plain": [
       "array([[1, 3, 5],\n",
       "       [2, 4, 6]])"
      ]
     },
     "execution_count": 88,
     "metadata": {},
     "output_type": "execute_result"
    }
   ],
   "source": [
    "a = np.arange(1, 7).reshape(3, 2)\n",
    "a.swapaxes(1, 0)"
   ]
  },
  {
   "cell_type": "code",
   "execution_count": 90,
   "id": "04cc096f-2b41-4cd6-8e40-06459ba79995",
   "metadata": {},
   "outputs": [
    {
     "name": "stdout",
     "output_type": "stream",
     "text": [
      "[[1 2 3]\n",
      " [4 5 6]]\n"
     ]
    },
    {
     "data": {
      "text/plain": [
       "array([[1, 4],\n",
       "       [2, 5],\n",
       "       [3, 6]])"
      ]
     },
     "execution_count": 90,
     "metadata": {},
     "output_type": "execute_result"
    }
   ],
   "source": [
    "a = np.arange(1, 7).reshape(2, 3)\n",
    "print(a)\n",
    "np.transpose(a)"
   ]
  },
  {
   "cell_type": "code",
   "execution_count": 92,
   "id": "66eda026-285f-4d49-84fc-b838e7e2ea55",
   "metadata": {},
   "outputs": [
    {
     "data": {
      "text/plain": [
       "array([[4, 5, 6],\n",
       "       [1, 2, 3]])"
      ]
     },
     "execution_count": 92,
     "metadata": {},
     "output_type": "execute_result"
    }
   ],
   "source": [
    "np.flipud(a)"
   ]
  },
  {
   "cell_type": "code",
   "execution_count": 96,
   "id": "22bc9fec-e7a0-4e91-85b1-01045155d384",
   "metadata": {},
   "outputs": [
    {
     "name": "stdout",
     "output_type": "stream",
     "text": [
      "3\n",
      "[False False False False False  True  True False  True False]\n"
     ]
    }
   ],
   "source": [
    "a = np.random.randint(1, 10, size= 10)\n",
    "b = np.random.randint(1, 10, size= 10)\n",
    "print((a == b).sum())\n",
    "print(a == b)"
   ]
  },
  {
   "cell_type": "code",
   "execution_count": 98,
   "id": "11e8a12d-8b0c-4982-9c2b-8835ba16e1c9",
   "metadata": {},
   "outputs": [
    {
     "name": "stdout",
     "output_type": "stream",
     "text": [
      "[[1 4]\n",
      " [2 5]\n",
      " [3 6]]\n"
     ]
    }
   ],
   "source": [
    "a = np.arange(1, 4)\n",
    "b = np.arange(4, 7)\n",
    "c = np.stack((a, b), axis= 1)\n",
    "print(c)"
   ]
  },
  {
   "cell_type": "code",
   "execution_count": null,
   "id": "a70ab887-19c8-4d7f-b9f7-9449c8bd7bb6",
   "metadata": {},
   "outputs": [],
   "source": []
  }
 ],
 "metadata": {
  "kernelspec": {
   "display_name": "Python 3 (ipykernel)",
   "language": "python",
   "name": "python3"
  },
  "language_info": {
   "codemirror_mode": {
    "name": "ipython",
    "version": 3
   },
   "file_extension": ".py",
   "mimetype": "text/x-python",
   "name": "python",
   "nbconvert_exporter": "python",
   "pygments_lexer": "ipython3",
   "version": "3.13.0"
  }
 },
 "nbformat": 4,
 "nbformat_minor": 5
}
